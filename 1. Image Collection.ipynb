{
 "cells": [
  {
   "cell_type": "code",
   "execution_count": 1,
   "metadata": {},
   "outputs": [
    {
     "name": "stdout",
     "output_type": "stream",
     "text": [
      "Requirement already satisfied: opencv-python in c:\\users\\hp\\desktop\\tfodcourse\\tfod\\lib\\site-packages (4.6.0.66)\n",
      "Requirement already satisfied: numpy>=1.14.5 in c:\\users\\hp\\desktop\\tfodcourse\\tfod\\lib\\site-packages (from opencv-python) (1.23.1)\n"
     ]
    }
   ],
   "source": [
    "!pip install opencv-python"
   ]
  },
  {
   "cell_type": "code",
   "execution_count": 1,
   "metadata": {},
   "outputs": [],
   "source": [
    "# Import opencv\n",
    "import cv2 \n",
    "\n",
    "# Import uuid\n",
    "import uuid\n",
    "\n",
    "# Import Operating System\n",
    "import os\n",
    "\n",
    "# Import time\n",
    "import time"
   ]
  },
  {
   "cell_type": "code",
   "execution_count": 2,
   "metadata": {},
   "outputs": [],
   "source": [
    "# Labels for the images\n",
    "labels = ['thumbsup', 'thumbsdown', 'thankyou', 'livelong']\n",
    "number_imgs = 5"
   ]
  },
  {
   "cell_type": "code",
   "execution_count": 3,
   "metadata": {},
   "outputs": [],
   "source": [
    "IMAGES_PATH = os.path.join('Tensorflow', 'workspace', 'images', 'collectedimages')"
   ]
  },
  {
   "cell_type": "code",
   "execution_count": 4,
   "metadata": {},
   "outputs": [],
   "source": [
    "# Creating the directories\n",
    "if not os.path.exists(IMAGES_PATH):\n",
    "    if os.name == 'posix':\n",
    "        !mkdir -p {IMAGES_PATH}\n",
    "    if os.name == 'nt':\n",
    "         !mkdir {IMAGES_PATH}\n",
    "for label in labels:\n",
    "    path = os.path.join(IMAGES_PATH, label)\n",
    "    if not os.path.exists(path):\n",
    "        !mkdir {path}"
   ]
  },
  {
   "cell_type": "code",
   "execution_count": 4,
   "metadata": {},
   "outputs": [
    {
     "name": "stdout",
     "output_type": "stream",
     "text": [
      "Collecting images for thumbsup\n",
      "Collecting image 0\n",
      "Collecting image 1\n",
      "Collecting image 2\n",
      "Collecting image 3\n",
      "Collecting image 4\n",
      "Collecting images for thumbsdown\n",
      "Collecting image 0\n",
      "Collecting image 1\n",
      "Collecting image 2\n",
      "Collecting image 3\n",
      "Collecting image 4\n",
      "Collecting images for thankyou\n",
      "Collecting image 0\n",
      "Collecting image 1\n",
      "Collecting image 2\n",
      "Collecting image 3\n",
      "Collecting image 4\n",
      "Collecting images for livelong\n",
      "Collecting image 0\n",
      "Collecting image 1\n",
      "Collecting image 2\n",
      "Collecting image 3\n",
      "Collecting image 4\n"
     ]
    }
   ],
   "source": [
    "for label in labels:\n",
    "    cap = cv2.VideoCapture(0)\n",
    "    print('Collecting images for {}'.format(label))\n",
    "    time.sleep(5)\n",
    "    for imgnum in range(number_imgs):\n",
    "        print('Collecting image {}'.format(imgnum))\n",
    "        ret, frame = cap.read()\n",
    "        imgname = os.path.join(IMAGES_PATH,label,label+'.'+'{}.jpg'.format(str(uuid.uuid1())))\n",
    "        cv2.imwrite(imgname, frame)\n",
    "        cv2.imshow('frame', frame)\n",
    "        time.sleep(2)\n",
    "\n",
    "        if cv2.waitKey(1) & 0xFF == ord('q'):\n",
    "            break\n",
    "cap.release()\n",
    "cv2.destroyAllWindows()"
   ]
  },
  {
   "cell_type": "code",
   "execution_count": 5,
   "metadata": {},
   "outputs": [
    {
     "name": "stdout",
     "output_type": "stream",
     "text": [
      "Requirement already satisfied: pyqt5 in c:\\users\\hp\\desktop\\tfodcourse\\tfod\\lib\\site-packages (5.15.7)\n",
      "Requirement already satisfied: lxml in c:\\users\\hp\\desktop\\tfodcourse\\tfod\\lib\\site-packages (4.9.1)\n",
      "Requirement already satisfied: PyQt5-sip<13,>=12.11 in c:\\users\\hp\\desktop\\tfodcourse\\tfod\\lib\\site-packages (from pyqt5) (12.11.0)\n",
      "Requirement already satisfied: PyQt5-Qt5>=5.15.0 in c:\\users\\hp\\desktop\\tfodcourse\\tfod\\lib\\site-packages (from pyqt5) (5.15.2)\n",
      "\n",
      "[notice] A new release of pip available: 22.1.2 -> 22.2\n",
      "[notice] To update, run: python.exe -m pip install --upgrade pip\n"
     ]
    }
   ],
   "source": [
    "!pip install --upgrade pyqt5 lxml"
   ]
  },
  {
   "cell_type": "code",
   "execution_count": 6,
   "metadata": {},
   "outputs": [],
   "source": [
    "LABELIMG_PATH = os.path.join('Tensorflow', 'labelimg')"
   ]
  },
  {
   "cell_type": "code",
   "execution_count": 7,
   "metadata": {},
   "outputs": [],
   "source": [
    "# clone https://github.com/tzutalin/labelImg\n",
    "if not os.path.exists(LABELIMG_PATH):\n",
    "    !mkdir {LABELIMG_PATH}\n",
    "    !git clone https://github.com/tzutalin/labelImg {LABELIMG_PATH}"
   ]
  },
  {
   "cell_type": "code",
   "execution_count": 8,
   "metadata": {},
   "outputs": [],
   "source": [
    "if os.name == 'posix':\n",
    "    !make qt5py3\n",
    "if os.name =='nt':\n",
    "    !cd {LABELIMG_PATH} && pyrcc5 -o libs/resources.py resources.qrc"
   ]
  },
  {
   "cell_type": "code",
   "execution_count": 9,
   "metadata": {},
   "outputs": [
    {
     "name": "stdout",
     "output_type": "stream",
     "text": [
      "Image:C:\\Users\\hp\\Desktop\\TFODCourse\\Tensorflow\\workspace\\images\\collectedimages\\livelong\\livelong.9ace23a5-0b3d-11ed-bf88-b46bfc7d9de8.jpg -> Annotation:C:/Users/hp/Desktop/TFODCourse/Tensorflow/workspace/images/collectedimages/livelong\\livelong.9ace23a5-0b3d-11ed-bf88-b46bfc7d9de8.xml\n",
      "Image:C:\\Users\\hp\\Desktop\\TFODCourse\\Tensorflow\\workspace\\images\\collectedimages\\livelong\\livelong.95f847ab-0b3d-11ed-9f7a-b46bfc7d9de8.jpg -> Annotation:C:/Users/hp/Desktop/TFODCourse/Tensorflow/workspace/images/collectedimages/livelong\\livelong.95f847ab-0b3d-11ed-9f7a-b46bfc7d9de8.xml\n",
      "Image:C:\\Users\\hp\\Desktop\\TFODCourse\\Tensorflow\\workspace\\images\\collectedimages\\livelong\\livelong.973066c5-0b3d-11ed-aeed-b46bfc7d9de8.jpg -> Annotation:C:/Users/hp/Desktop/TFODCourse/Tensorflow/workspace/images/collectedimages/livelong\\livelong.973066c5-0b3d-11ed-aeed-b46bfc7d9de8.xml\n",
      "Image:C:\\Users\\hp\\Desktop\\TFODCourse\\Tensorflow\\workspace\\images\\collectedimages\\livelong\\livelong.9865786b-0b3d-11ed-8d8c-b46bfc7d9de8.jpg -> Annotation:C:/Users/hp/Desktop/TFODCourse/Tensorflow/workspace/images/collectedimages/livelong\\livelong.9865786b-0b3d-11ed-8d8c-b46bfc7d9de8.xml\n",
      "Image:C:\\Users\\hp\\Desktop\\TFODCourse\\Tensorflow\\workspace\\images\\collectedimages\\livelong\\livelong.99999026-0b3d-11ed-8038-b46bfc7d9de8.jpg -> Annotation:C:/Users/hp/Desktop/TFODCourse/Tensorflow/workspace/images/collectedimages/livelong\\livelong.99999026-0b3d-11ed-8038-b46bfc7d9de8.xml\n",
      "Image:C:\\Users\\hp\\Desktop\\TFODCourse\\Tensorflow\\workspace\\images\\collectedimages\\thankyou\\thankyou.8b0505d7-0b3d-11ed-a50c-b46bfc7d9de8.jpg -> Annotation:C:/Users/hp/Desktop/TFODCourse/Tensorflow/workspace/images/collectedimages/thankyou\\thankyou.8b0505d7-0b3d-11ed-a50c-b46bfc7d9de8.xml\n",
      "Image:C:\\Users\\hp\\Desktop\\TFODCourse\\Tensorflow\\workspace\\images\\collectedimages\\thankyou\\thankyou.8fd98d79-0b3d-11ed-8218-b46bfc7d9de8.jpg -> Annotation:C:/Users/hp/Desktop/TFODCourse/Tensorflow/workspace/images/collectedimages/thankyou\\thankyou.8fd98d79-0b3d-11ed-8218-b46bfc7d9de8.xml\n",
      "Image:C:\\Users\\hp\\Desktop\\TFODCourse\\Tensorflow\\workspace\\images\\collectedimages\\thankyou\\thankyou.8ea4abb0-0b3d-11ed-b44a-b46bfc7d9de8.jpg -> Annotation:C:/Users/hp/Desktop/TFODCourse/Tensorflow/workspace/images/collectedimages/thankyou\\thankyou.8ea4abb0-0b3d-11ed-b44a-b46bfc7d9de8.xml\n",
      "Image:C:\\Users\\hp\\Desktop\\TFODCourse\\Tensorflow\\workspace\\images\\collectedimages\\thankyou\\thankyou.8d6eb260-0b3d-11ed-9fa6-b46bfc7d9de8.jpg -> Annotation:C:/Users/hp/Desktop/TFODCourse/Tensorflow/workspace/images/collectedimages/thankyou\\thankyou.8d6eb260-0b3d-11ed-9fa6-b46bfc7d9de8.xml\n",
      "Image:C:\\Users\\hp\\Desktop\\TFODCourse\\Tensorflow\\workspace\\images\\collectedimages\\thankyou\\thankyou.8c3a9d3d-0b3d-11ed-a3cb-b46bfc7d9de8.jpg -> Annotation:C:/Users/hp/Desktop/TFODCourse/Tensorflow/workspace/images/collectedimages/thankyou\\thankyou.8c3a9d3d-0b3d-11ed-a3cb-b46bfc7d9de8.xml\n",
      "Image:C:\\Users\\hp\\Desktop\\TFODCourse\\Tensorflow\\workspace\\images\\collectedimages\\thumbsdown\\thumbsdown.83b04c2f-0b3d-11ed-8cdf-b46bfc7d9de8.jpg -> Annotation:C:/Users/hp/Desktop/TFODCourse/Tensorflow/workspace/images/collectedimages/thumbsdown\\thumbsdown.83b04c2f-0b3d-11ed-8cdf-b46bfc7d9de8.xml\n",
      "Image:C:\\Users\\hp\\Desktop\\TFODCourse\\Tensorflow\\workspace\\images\\collectedimages\\thumbsdown\\thumbsdown.84e47e5e-0b3d-11ed-8747-b46bfc7d9de8.jpg -> Annotation:C:/Users/hp/Desktop/TFODCourse/Tensorflow/workspace/images/collectedimages/thumbsdown\\thumbsdown.84e47e5e-0b3d-11ed-8747-b46bfc7d9de8.xml\n",
      "Image:C:\\Users\\hp\\Desktop\\TFODCourse\\Tensorflow\\workspace\\images\\collectedimages\\thumbsdown\\thumbsdown.827c052c-0b3d-11ed-9363-b46bfc7d9de8.jpg -> Annotation:C:/Users/hp/Desktop/TFODCourse/Tensorflow/workspace/images/collectedimages/thumbsdown\\thumbsdown.827c052c-0b3d-11ed-9363-b46bfc7d9de8.xml\n",
      "Image:C:\\Users\\hp\\Desktop\\TFODCourse\\Tensorflow\\workspace\\images\\collectedimages\\thumbsdown\\thumbsdown.8148609c-0b3d-11ed-baea-b46bfc7d9de8.jpg -> Annotation:C:/Users/hp/Desktop/TFODCourse/Tensorflow/workspace/images/collectedimages/thumbsdown\\thumbsdown.8148609c-0b3d-11ed-baea-b46bfc7d9de8.xml\n",
      "Image:C:\\Users\\hp\\Desktop\\TFODCourse\\Tensorflow\\workspace\\images\\collectedimages\\thumbsdown\\thumbsdown.80108031-0b3d-11ed-91de-b46bfc7d9de8.jpg -> Annotation:C:/Users/hp/Desktop/TFODCourse/Tensorflow/workspace/images/collectedimages/thumbsdown\\thumbsdown.80108031-0b3d-11ed-91de-b46bfc7d9de8.xml\n",
      "Image:C:\\Users\\hp\\Desktop\\TFODCourse\\Tensorflow\\workspace\\images\\collectedimages\\thumbsup\\thumbsup.78bfafa3-0b3d-11ed-8876-b46bfc7d9de8.jpg -> Annotation:C:/Users/hp/Desktop/TFODCourse/Tensorflow/workspace/images/collectedimages/thumbsup\\thumbsup.78bfafa3-0b3d-11ed-8876-b46bfc7d9de8.xml\n",
      "Image:C:\\Users\\hp\\Desktop\\TFODCourse\\Tensorflow\\workspace\\images\\collectedimages\\thumbsup\\thumbsup.79f48b07-0b3d-11ed-995f-b46bfc7d9de8.jpg -> Annotation:C:/Users/hp/Desktop/TFODCourse/Tensorflow/workspace/images/collectedimages/thumbsup\\thumbsup.79f48b07-0b3d-11ed-995f-b46bfc7d9de8.xml\n",
      "Image:C:\\Users\\hp\\Desktop\\TFODCourse\\Tensorflow\\workspace\\images\\collectedimages\\thumbsup\\thumbsup.778c193e-0b3d-11ed-9ba4-b46bfc7d9de8.jpg -> Annotation:C:/Users/hp/Desktop/TFODCourse/Tensorflow/workspace/images/collectedimages/thumbsup\\thumbsup.778c193e-0b3d-11ed-9ba4-b46bfc7d9de8.xml\n",
      "Image:C:\\Users\\hp\\Desktop\\TFODCourse\\Tensorflow\\workspace\\images\\collectedimages\\thumbsup\\thumbsup.75161a7a-0b3d-11ed-acda-b46bfc7d9de8.jpg -> Annotation:C:/Users/hp/Desktop/TFODCourse/Tensorflow/workspace/images/collectedimages/thumbsup\\thumbsup.75161a7a-0b3d-11ed-acda-b46bfc7d9de8.xml\n",
      "Image:C:\\Users\\hp\\Desktop\\TFODCourse\\Tensorflow\\workspace\\images\\collectedimages\\thumbsup\\thumbsup.76563185-0b3d-11ed-8514-b46bfc7d9de8.jpg -> Annotation:C:/Users/hp/Desktop/TFODCourse/Tensorflow/workspace/images/collectedimages/thumbsup\\thumbsup.76563185-0b3d-11ed-8514-b46bfc7d9de8.xml\n"
     ]
    }
   ],
   "source": [
    "!cd {LABELIMG_PATH} && python labelImg.py"
   ]
  },
  {
   "cell_type": "code",
   "execution_count": 10,
   "metadata": {},
   "outputs": [],
   "source": [
    "TRAIN_PATH = os.path.join('Tensorflow', 'workspace', 'images', 'train')\n",
    "TEST_PATH = os.path.join('Tensorflow', 'workspace', 'images', 'test')\n",
    "ARCHIVE_PATH = os.path.join('Tensorflow', 'workspace', 'images', 'archive.tar.gz')"
   ]
  },
  {
   "cell_type": "code",
   "execution_count": 11,
   "metadata": {},
   "outputs": [],
   "source": [
    "!tar -czf {ARCHIVE_PATH} {TRAIN_PATH} {TEST_PATH}"
   ]
  },
  {
   "cell_type": "code",
   "execution_count": null,
   "metadata": {},
   "outputs": [],
   "source": []
  }
 ],
 "metadata": {
  "kernelspec": {
   "display_name": "tfodj",
   "language": "python",
   "name": "tfodj"
  },
  "language_info": {
   "codemirror_mode": {
    "name": "ipython",
    "version": 3
   },
   "file_extension": ".py",
   "mimetype": "text/x-python",
   "name": "python",
   "nbconvert_exporter": "python",
   "pygments_lexer": "ipython3",
   "version": "3.8.10"
  }
 },
 "nbformat": 4,
 "nbformat_minor": 2
}
